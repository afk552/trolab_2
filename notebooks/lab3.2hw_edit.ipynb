{
 "cells": [
  {
   "cell_type": "markdown",
   "metadata": {},
   "source": [
    "# Лабораторная работа 3.2. Домашнее задание"
   ]
  },
  {
   "cell_type": "markdown",
   "metadata": {},
   "source": [
    "### Задание №1"
   ]
  },
  {
   "cell_type": "markdown",
   "metadata": {},
   "source": [
    "Создайте два массива: в первом должны быть четные числа от 2 до 12 включительно, а в другом числа 7, 11, 15, 18, 23, 29."
   ]
  },
  {
   "cell_type": "markdown",
   "metadata": {},
   "source": [
    "$1.$ Сложите массивы и возведите элементы получившегося массива в квадрат:"
   ]
  },
  {
   "cell_type": "code",
   "execution_count": 1,
   "metadata": {},
   "outputs": [],
   "source": [
    "import numpy as np"
   ]
  },
  {
   "cell_type": "code",
   "execution_count": 2,
   "metadata": {
    "jupyter": {
     "outputs_hidden": true
    }
   },
   "outputs": [
    {
     "name": "stdout",
     "output_type": "stream",
     "text": [
      "[  81  225  441  676 1089 1681]\n"
     ]
    }
   ],
   "source": [
    "#n1 = np.arange(2, 13, 2)\n",
    "n1 = np.array([2, 4, 6, 8, 10, 12])\n",
    "n2 = np.array([7, 11, 15, 18, 23, 29])\n",
    "\n",
    "print((n1 + n2) ** 2)"
   ]
  },
  {
   "cell_type": "markdown",
   "metadata": {},
   "source": [
    "$2.$ Выведите все элементы из первого массива, индексы которых соответствуют индексам тех элементов второго массива, которые больше 12 и дают остаток 3 при делении на 5."
   ]
  },
  {
   "cell_type": "code",
   "execution_count": 3,
   "metadata": {
    "jupyter": {
     "outputs_hidden": true
    }
   },
   "outputs": [
    {
     "name": "stdout",
     "output_type": "stream",
     "text": [
      "[ 8 10]\n"
     ]
    }
   ],
   "source": [
    "condition = (n2 > 12) & (n2 % 5 == 3)\n",
    "print(n1[condition])"
   ]
  },
  {
   "cell_type": "markdown",
   "metadata": {},
   "source": [
    "*3.* Проверьте условие \"Элементы первого массива делятся на 4, элементы второго массива меньше 14\". (Подсказка: в результате должен получиться массив с True и False)"
   ]
  },
  {
   "cell_type": "code",
   "execution_count": 4,
   "metadata": {},
   "outputs": [
    {
     "name": "stdout",
     "output_type": "stream",
     "text": [
      "[False  True False False False False]\n"
     ]
    }
   ],
   "source": [
    "print((n1 % 4 == 0) & (n2 < 14))"
   ]
  },
  {
   "cell_type": "markdown",
   "metadata": {},
   "source": [
    "### Задание №2"
   ]
  },
  {
   "cell_type": "markdown",
   "metadata": {},
   "source": [
    "* Найдите интересный для вас датасет. Например, можно выбрать датасет тут. http://data.un.org/Explorer.aspx (выбираете датасет, жмете на view data, потом download, выбирайте csv формат)\n",
    "* Рассчитайте подходящие описательные статистики для признаков объектов в выбранном датасете\n",
    "* Проанализируйте и прокомментируйте содержательно получившиеся результаты\n",
    "* Все комментарии оформляйте строго в ячейках формата markdown\n",
    "    "
   ]
  },
  {
   "cell_type": "markdown",
   "metadata": {},
   "source": [
    "<font size=\"4\"> В выбранном наборе данных представлены данные о популярности языков программирования (в процентном значении) в период с 2004 по 2022. В качестве объектов для анализа были выбраны языки C# и Python. </font>"
   ]
  },
  {
   "cell_type": "code",
   "execution_count": 5,
   "metadata": {
    "jupyter": {
     "outputs_hidden": true
    }
   },
   "outputs": [
    {
     "name": "stdout",
     "output_type": "stream",
     "text": [
      "Дисперсия для C#: 1.637885680914625\n",
      "Дисперсия для Python: 85.90154273264302\n",
      "Среднее значение популярности языка С#: 7.589241706161137\n",
      "Среднее значение популярности языка Python: 12.613696682464454\n",
      "Среднее отклонение для C#: 1.2797990783379338\n",
      "Среднее отклонение для Python: 9.268308515184582\n",
      "Коэффициент парной корреляции: [[1.        0.0851394]\n",
      " [0.0851394 1.       ]]\n",
      "Значение медианы для C#: 7.290000000000001\n",
      "Значение медианы для Python: 9.17\n",
      "Межквартильный диапазон для C#: 2.1099999999999994\n",
      "Межквартильный диапазон для Python: 12.19\n"
     ]
    }
   ],
   "source": [
    "import csv\n",
    "import numpy as np\n",
    "\n",
    "data = []\n",
    "x, y = [], []\n",
    "with open(\"p_langs.csv\", encoding='utf-8') as f:\n",
    "    reader = csv.DictReader(f, dialect='excel')\n",
    "    for row in reader:\n",
    "        data.append(row)\n",
    "    for i in data:\n",
    "        x.append(float(i.get('C#')))\n",
    "        y.append(float(i.get('Python')))\n",
    "    x_np = np.array(x)\n",
    "    y_np = np.array(y)\n",
    "\n",
    "print(f\"Дисперсия для C#: {np.var(x_np)}\")\n",
    "print(f\"Дисперсия для Python: {np.var(y_np)}\")\n",
    "print(f\"Среднее значение популярности языка С#: {np.mean(x_np)}\")\n",
    "print(f\"Среднее значение популярности языка Python: {np.mean(y_np)}\")\n",
    "print(f\"Среднее отклонение для C#: {np.std(x_np)}\")\n",
    "print(f\"Среднее отклонение для Python: {np.std(y_np)}\")\n",
    "print(f\"Коэффициент парной корреляции: {np.corrcoef(x_np, y_np)}\")\n",
    "\n",
    "print(f\"Значение медианы для C#: {np.median(x_np)}\")\n",
    "print(f\"Значение медианы для Python: {np.median(y_np)}\")\n",
    "\n",
    "q3, q1 = np.percentile (x_np, [75 ,25])\n",
    "iqr = q3 - q1\n",
    "print(f\"Межквартильный диапазон для C#: {iqr}\")\n",
    "q3, q1 = np.percentile (y_np, [75 ,25])\n",
    "iqr = q3 - q1\n",
    "print(f\"Межквартильный диапазон для Python: {iqr}\")"
   ]
  },
  {
   "cell_type": "code",
   "execution_count": 6,
   "metadata": {},
   "outputs": [
    {
     "name": "stdout",
     "output_type": "stream",
     "text": [
      "Значения ассиметрии: \n",
      " C#        0.254393\n",
      "Python    0.934390\n",
      "dtype: float64\n"
     ]
    }
   ],
   "source": [
    "import pandas as pd\n",
    "pd.options.mode.chained_assignment = None\n",
    "df = pd.read_csv('p_langs.csv')\n",
    "print(\"Значения ассиметрии: \\n\", df[[\"C#\", \"Python\"]].skew())\n"
   ]
  },
  {
   "attachments": {},
   "cell_type": "markdown",
   "metadata": {},
   "source": [
    "<font size=\"4\">\n",
    "По полученным результатам можно сделать вывод, что Python был гораздо популярнее C#, что показывает среднее значение. Коэффициенты среднего отклонения же показывают, что Python по популярности сильно обгоняет C#, что так же заметно по дисперсиям. Коэффициенты парной корелляции показывают, что значения мало связаны между с собой. Межквартильные диапазоны показали сильный размах в значениях у Python.\n",
    "</font>"
   ]
  }
 ],
 "metadata": {
  "kernelspec": {
   "display_name": "Python 3 (ipykernel)",
   "language": "python",
   "name": "python3"
  },
  "language_info": {
   "codemirror_mode": {
    "name": "ipython",
    "version": 3
   },
   "file_extension": ".py",
   "mimetype": "text/x-python",
   "name": "python",
   "nbconvert_exporter": "python",
   "pygments_lexer": "ipython3",
   "version": "3.9.13"
  },
  "vscode": {
   "interpreter": {
    "hash": "1448b48b023bcc9c3d4a79e814720a10ca6d4244f75e0f7ce4af58f96ba2b7d3"
   }
  }
 },
 "nbformat": 4,
 "nbformat_minor": 4
}
