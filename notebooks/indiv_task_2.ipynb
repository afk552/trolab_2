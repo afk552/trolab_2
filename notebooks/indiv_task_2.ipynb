{
 "cells": [
  {
   "cell_type": "markdown",
   "metadata": {},
   "source": [
    "<font size=4> <b> Задание: </b> Дана целочисленная квадратная матрица. Определить:\n",
    "сумму элементов в тех столбцах, которые не содержат отрицательных элементов;\n",
    "минимум среди сумм модулей элементов диагоналей, параллельных побочной диагонали\n",
    "матрицы. </h3>\n",
    "</font>"
   ]
  },
  {
   "cell_type": "code",
   "execution_count": 1,
   "metadata": {},
   "outputs": [
    {
     "name": "stdout",
     "output_type": "stream",
     "text": [
      "[[16 11 20  7 19  1 23 22  2 10]\n",
      " [ 1 22  2  2 19 10 18  8 18  3]\n",
      " [20  4  1  3  2 24 15 -2 19 -3]\n",
      " [20  8 24 23 27 11  2 29 24 29]\n",
      " [22 12 24  0 25 16 17 17 22 16]\n",
      " [14 -2 11 11 26 22 19 22  5 26]\n",
      " [26 16 19  8  5 20 13  4 29  1]\n",
      " [10 20  8  0  9 10  6 13 15 25]\n",
      " [17 18 20 28 18 22 28  9 14  0]\n",
      " [ 8 14 28  1  5 19 20 17 12 16]]\n",
      "Сумма элементов в столбцах, не содержащих отрицательных элементов: 1025\n",
      "Минимум среди сумм модулей элементов диагоналей, параллельных побочной:  12\n"
     ]
    }
   ],
   "source": [
    "import numpy as np\n",
    "import random\n",
    "n = 10\n",
    "random.seed(10)\n",
    "arr = np.random.randint(-3, 30, size=(n, n))\n",
    "\n",
    "print(arr)\n",
    "summ = arr[:, (arr>=0).all(axis=0)].sum()\n",
    "minn = min([np.fliplr(arr).diagonal(i).sum() for i in range(-(n-1), n)])\n",
    "\n",
    "print(\"Сумма элементов в столбцах, не содержащих отрицательных элементов:\", summ)\n",
    "print(\"Минимум среди сумм модулей элементов диагоналей, параллельных побочной: \",minn)"
   ]
  },
  {
   "cell_type": "code",
   "execution_count": null,
   "metadata": {},
   "outputs": [],
   "source": []
  }
 ],
 "metadata": {
  "kernelspec": {
   "display_name": "Python 3 (ipykernel)",
   "language": "python",
   "name": "python3"
  },
  "language_info": {
   "codemirror_mode": {
    "name": "ipython",
    "version": 3
   },
   "file_extension": ".py",
   "mimetype": "text/x-python",
   "name": "python",
   "nbconvert_exporter": "python",
   "pygments_lexer": "ipython3",
   "version": "3.9.13"
  },
  "vscode": {
   "interpreter": {
    "hash": "1448b48b023bcc9c3d4a79e814720a10ca6d4244f75e0f7ce4af58f96ba2b7d3"
   }
  }
 },
 "nbformat": 4,
 "nbformat_minor": 2
}
